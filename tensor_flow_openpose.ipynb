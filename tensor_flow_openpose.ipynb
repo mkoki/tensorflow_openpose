{
  "nbformat": 4,
  "nbformat_minor": 0,
  "metadata": {
    "colab": {
      "name": "tensor_flow_openpose",
      "version": "0.3.2",
      "provenance": [],
      "collapsed_sections": [],
      "toc_visible": true
    },
    "kernelspec": {
      "name": "python3",
      "display_name": "Python 3"
    },
    "accelerator": "GPU"
  },
  "cells": [
    {
      "cell_type": "code",
      "metadata": {
        "id": "iTU5tuoE-xxs",
        "colab_type": "code",
        "outputId": "3943a785-7d1d-4134-fafb-4a7aad68ee8c",
        "colab": {
          "base_uri": "https://localhost:8080/",
          "height": 2417
        }
      },
      "source": [
        "!apt-get -q -y install swig\n",
        "!git clone https://www.github.com/ildoonet/tf-openpose\n",
        "!pwd\n",
        "%cd tf-openpose\n",
        "!pip3 install -r requirements.txt\n",
        "%cd models/graph/cmu\n",
        "!bash download.sh\n",
        "%cd ../../../\n",
        "%cd tf_pose/pafprocess\n",
        "!ls\n",
        "!swig -python -c++ pafprocess.i && python3 setup.py build_ext --inplace\n",
        "%cd ../../\n",
        "\n",
        "from google.colab import drive\n",
        "drive.mount('./gdrive')"
      ],
      "execution_count": 1,
      "outputs": [
        {
          "output_type": "stream",
          "text": [
            "Reading package lists...\n",
            "Building dependency tree...\n",
            "Reading state information...\n",
            "The following package was automatically installed and is no longer required:\n",
            "  libnvidia-common-410\n",
            "Use 'apt autoremove' to remove it.\n",
            "The following additional packages will be installed:\n",
            "  swig3.0\n",
            "Suggested packages:\n",
            "  swig-doc swig-examples swig3.0-examples swig3.0-doc\n",
            "The following NEW packages will be installed:\n",
            "  swig swig3.0\n",
            "0 upgraded, 2 newly installed, 0 to remove and 7 not upgraded.\n",
            "Need to get 1,100 kB of archives.\n",
            "After this operation, 5,822 kB of additional disk space will be used.\n",
            "Get:1 http://archive.ubuntu.com/ubuntu bionic/universe amd64 swig3.0 amd64 3.0.12-1 [1,094 kB]\n",
            "Get:2 http://archive.ubuntu.com/ubuntu bionic/universe amd64 swig amd64 3.0.12-1 [6,460 B]\n",
            "Fetched 1,100 kB in 2s (455 kB/s)\n",
            "Selecting previously unselected package swig3.0.\n",
            "(Reading database ... 130824 files and directories currently installed.)\n",
            "Preparing to unpack .../swig3.0_3.0.12-1_amd64.deb ...\n",
            "Unpacking swig3.0 (3.0.12-1) ...\n",
            "Selecting previously unselected package swig.\n",
            "Preparing to unpack .../swig_3.0.12-1_amd64.deb ...\n",
            "Unpacking swig (3.0.12-1) ...\n",
            "Setting up swig3.0 (3.0.12-1) ...\n",
            "Processing triggers for man-db (2.8.3-2ubuntu0.1) ...\n",
            "Setting up swig (3.0.12-1) ...\n",
            "Cloning into 'tf-openpose'...\n",
            "warning: redirecting to https://github.com/ildoonet/tf-openpose.git/\n",
            "remote: Enumerating objects: 1328, done.\u001b[K\n",
            "remote: Total 1328 (delta 0), reused 0 (delta 0), pack-reused 1328\u001b[K\n",
            "Receiving objects: 100% (1328/1328), 94.11 MiB | 9.99 MiB/s, done.\n",
            "Resolving deltas: 100% (711/711), done.\n",
            "/content\n",
            "/content/tf-openpose\n",
            "Collecting git+https://github.com/ppwwyyxx/tensorpack.git (from -r requirements.txt (line 13))\n",
            "  Cloning https://github.com/ppwwyyxx/tensorpack.git to /tmp/pip-req-build-g547syoj\n",
            "  Running command git clone -q https://github.com/ppwwyyxx/tensorpack.git /tmp/pip-req-build-g547syoj\n",
            "Collecting argparse (from -r requirements.txt (line 1))\n",
            "  Downloading https://files.pythonhosted.org/packages/f2/94/3af39d34be01a24a6e65433d19e107099374224905f1e0cc6bbe1fd22a2f/argparse-1.4.0-py2.py3-none-any.whl\n",
            "Requirement already satisfied: dill in /usr/local/lib/python3.6/dist-packages (from -r requirements.txt (line 2)) (0.2.9)\n",
            "Collecting fire (from -r requirements.txt (line 3))\n",
            "  Downloading https://files.pythonhosted.org/packages/5a/b7/205702f348aab198baecd1d8344a90748cb68f53bdcd1cc30cbc08e47d3e/fire-0.1.3.tar.gz\n",
            "Requirement already satisfied: matplotlib in /usr/local/lib/python3.6/dist-packages (from -r requirements.txt (line 4)) (3.0.3)\n",
            "Requirement already satisfied: numba in /usr/local/lib/python3.6/dist-packages (from -r requirements.txt (line 5)) (0.40.1)\n",
            "Requirement already satisfied: psutil in /usr/local/lib/python3.6/dist-packages (from -r requirements.txt (line 6)) (5.4.8)\n",
            "Requirement already satisfied: pycocotools in /usr/local/lib/python3.6/dist-packages (from -r requirements.txt (line 7)) (2.0.0)\n",
            "Requirement already satisfied: requests in /usr/local/lib/python3.6/dist-packages (from -r requirements.txt (line 8)) (2.21.0)\n",
            "Requirement already satisfied: scikit-image in /usr/local/lib/python3.6/dist-packages (from -r requirements.txt (line 9)) (0.14.2)\n",
            "Requirement already satisfied: scipy in /usr/local/lib/python3.6/dist-packages (from -r requirements.txt (line 10)) (1.2.1)\n",
            "Collecting slidingwindow (from -r requirements.txt (line 11))\n",
            "  Downloading https://files.pythonhosted.org/packages/3d/15/a2a2dc82fe9fa9699062b24e84e2cd2620f4ac0e2089d24eb8d0de0ce7ec/slidingwindow-0.0.13-py2.py3-none-any.whl\n",
            "Requirement already satisfied: tqdm in /usr/local/lib/python3.6/dist-packages (from -r requirements.txt (line 12)) (4.28.1)\n",
            "Requirement already satisfied: numpy>=1.14 in /usr/local/lib/python3.6/dist-packages (from tensorpack==0.9.4->-r requirements.txt (line 13)) (1.16.3)\n",
            "Requirement already satisfied: six in /usr/local/lib/python3.6/dist-packages (from tensorpack==0.9.4->-r requirements.txt (line 13)) (1.12.0)\n",
            "Requirement already satisfied: termcolor>=1.1 in /usr/local/lib/python3.6/dist-packages (from tensorpack==0.9.4->-r requirements.txt (line 13)) (1.1.0)\n",
            "Requirement already satisfied: tabulate>=0.7.7 in /usr/local/lib/python3.6/dist-packages (from tensorpack==0.9.4->-r requirements.txt (line 13)) (0.8.3)\n",
            "Requirement already satisfied: msgpack>=0.5.2 in /usr/local/lib/python3.6/dist-packages (from tensorpack==0.9.4->-r requirements.txt (line 13)) (0.5.6)\n",
            "Collecting msgpack-numpy>=0.4.4.2 (from tensorpack==0.9.4->-r requirements.txt (line 13))\n",
            "  Downloading https://files.pythonhosted.org/packages/c8/ab/09904a909bccc471f219fb8f5d0838cbcb10cc26089a2b29e84c893e216e/msgpack_numpy-0.4.4.3-py2.py3-none-any.whl\n",
            "Requirement already satisfied: pyzmq>=16 in /usr/local/lib/python3.6/dist-packages (from tensorpack==0.9.4->-r requirements.txt (line 13)) (17.0.0)\n",
            "Requirement already satisfied: cycler>=0.10 in /usr/local/lib/python3.6/dist-packages (from matplotlib->-r requirements.txt (line 4)) (0.10.0)\n",
            "Requirement already satisfied: python-dateutil>=2.1 in /usr/local/lib/python3.6/dist-packages (from matplotlib->-r requirements.txt (line 4)) (2.5.3)\n",
            "Requirement already satisfied: kiwisolver>=1.0.1 in /usr/local/lib/python3.6/dist-packages (from matplotlib->-r requirements.txt (line 4)) (1.1.0)\n",
            "Requirement already satisfied: pyparsing!=2.0.4,!=2.1.2,!=2.1.6,>=2.0.1 in /usr/local/lib/python3.6/dist-packages (from matplotlib->-r requirements.txt (line 4)) (2.4.0)\n",
            "Requirement already satisfied: llvmlite>=0.25.0dev0 in /usr/local/lib/python3.6/dist-packages (from numba->-r requirements.txt (line 5)) (0.28.0)\n",
            "Requirement already satisfied: urllib3<1.25,>=1.21.1 in /usr/local/lib/python3.6/dist-packages (from requests->-r requirements.txt (line 8)) (1.24.3)\n",
            "Requirement already satisfied: idna<2.9,>=2.5 in /usr/local/lib/python3.6/dist-packages (from requests->-r requirements.txt (line 8)) (2.8)\n",
            "Requirement already satisfied: certifi>=2017.4.17 in /usr/local/lib/python3.6/dist-packages (from requests->-r requirements.txt (line 8)) (2019.3.9)\n",
            "Requirement already satisfied: chardet<3.1.0,>=3.0.2 in /usr/local/lib/python3.6/dist-packages (from requests->-r requirements.txt (line 8)) (3.0.4)\n",
            "Requirement already satisfied: dask[array]>=1.0.0 in /usr/local/lib/python3.6/dist-packages (from scikit-image->-r requirements.txt (line 9)) (1.1.5)\n",
            "Requirement already satisfied: cloudpickle>=0.2.1 in /usr/local/lib/python3.6/dist-packages (from scikit-image->-r requirements.txt (line 9)) (0.6.1)\n",
            "Requirement already satisfied: PyWavelets>=0.4.0 in /usr/local/lib/python3.6/dist-packages (from scikit-image->-r requirements.txt (line 9)) (1.0.3)\n",
            "Requirement already satisfied: pillow>=4.3.0 in /usr/local/lib/python3.6/dist-packages (from scikit-image->-r requirements.txt (line 9)) (4.3.0)\n",
            "Requirement already satisfied: networkx>=1.8 in /usr/local/lib/python3.6/dist-packages (from scikit-image->-r requirements.txt (line 9)) (2.3)\n",
            "Requirement already satisfied: setuptools in /usr/local/lib/python3.6/dist-packages (from kiwisolver>=1.0.1->matplotlib->-r requirements.txt (line 4)) (41.0.1)\n",
            "Requirement already satisfied: toolz>=0.7.3; extra == \"array\" in /usr/local/lib/python3.6/dist-packages (from dask[array]>=1.0.0->scikit-image->-r requirements.txt (line 9)) (0.9.0)\n",
            "Requirement already satisfied: olefile in /usr/local/lib/python3.6/dist-packages (from pillow>=4.3.0->scikit-image->-r requirements.txt (line 9)) (0.46)\n",
            "Requirement already satisfied: decorator>=4.3.0 in /usr/local/lib/python3.6/dist-packages (from networkx>=1.8->scikit-image->-r requirements.txt (line 9)) (4.4.0)\n",
            "Building wheels for collected packages: fire, tensorpack\n",
            "  Building wheel for fire (setup.py) ... \u001b[?25l\u001b[?25hdone\n",
            "  Stored in directory: /root/.cache/pip/wheels/2a/1a/4d/6b30377c3051e76559d1185c1dbbfff15aed31f87acdd14c22\n",
            "  Building wheel for tensorpack (setup.py) ... \u001b[?25l\u001b[?25hdone\n",
            "  Stored in directory: /tmp/pip-ephem-wheel-cache-lt21b6g3/wheels/a8/b5/a9/025b3a1294b9ffff93309e6956c65aa80e0fa40821d29eff1e\n",
            "Successfully built fire tensorpack\n",
            "\u001b[31mERROR: thinc 6.12.1 has requirement msgpack-numpy<0.4.4, but you'll have msgpack-numpy 0.4.4.3 which is incompatible.\u001b[0m\n",
            "\u001b[31mERROR: tensorpack 0.9.4 has requirement tqdm>4.29.0, but you'll have tqdm 4.28.1 which is incompatible.\u001b[0m\n",
            "Installing collected packages: argparse, fire, slidingwindow, msgpack-numpy, tensorpack\n",
            "  Found existing installation: msgpack-numpy 0.4.3.2\n",
            "    Uninstalling msgpack-numpy-0.4.3.2:\n",
            "      Successfully uninstalled msgpack-numpy-0.4.3.2\n",
            "Successfully installed argparse-1.4.0 fire-0.1.3 msgpack-numpy-0.4.4.3 slidingwindow-0.0.13 tensorpack-0.9.4\n"
          ],
          "name": "stdout"
        },
        {
          "output_type": "display_data",
          "data": {
            "application/vnd.colab-display-data+json": {
              "pip_warning": {
                "packages": [
                  "argparse"
                ]
              }
            }
          },
          "metadata": {
            "tags": []
          }
        },
        {
          "output_type": "stream",
          "text": [
            "/content/tf-openpose/models/graph/cmu\n",
            "[download] model graph : cmu\n",
            "--2019-05-20 09:03:51--  http://download686.mediafire.com/att1x9ym8ieg/qlzzr20mpocnpa3/graph_opt.pb\n",
            "Resolving download686.mediafire.com (download686.mediafire.com)... 205.196.120.134\n",
            "Connecting to download686.mediafire.com (download686.mediafire.com)|205.196.120.134|:80... connected.\n",
            "HTTP request sent, awaiting response... 200 OK\n",
            "Length: 209299198 (200M) [application/octet-stream]\n",
            "Saving to: ‘/content/tf-openpose/models/graph/cmu/graph_opt.pb’\n",
            "\n",
            "/content/tf-openpos 100%[===================>] 199.60M   983KB/s    in 3m 19s  \n",
            "\n",
            "2019-05-20 09:07:11 (1.00 MB/s) - ‘/content/tf-openpose/models/graph/cmu/graph_opt.pb’ saved [209299198/209299198]\n",
            "\n",
            "[download] end\n",
            "/content/tf-openpose\n",
            "/content/tf-openpose/tf_pose/pafprocess\n",
            "__init__.py  pafprocess.cpp  pafprocess.i   pafprocess_wrap.cpp  setup.py\n",
            "numpy.i      pafprocess.h    pafprocess.py  README.md\n",
            "running build_ext\n",
            "building '_pafprocess' extension\n",
            "swigging pafprocess.i to pafprocess_wrap.cpp\n",
            "swig -python -c++ -o pafprocess_wrap.cpp pafprocess.i\n",
            "creating build\n",
            "creating build/temp.linux-x86_64-3.6\n",
            "x86_64-linux-gnu-gcc -pthread -DNDEBUG -g -fwrapv -O2 -Wall -g -fstack-protector-strong -Wformat -Werror=format-security -Wdate-time -D_FORTIFY_SOURCE=2 -fPIC -I/usr/local/lib/python3.6/dist-packages/numpy/core/include -I. -I/usr/include/python3.6m -c pafprocess.cpp -o build/temp.linux-x86_64-3.6/pafprocess.o\n",
            "x86_64-linux-gnu-gcc -pthread -DNDEBUG -g -fwrapv -O2 -Wall -g -fstack-protector-strong -Wformat -Werror=format-security -Wdate-time -D_FORTIFY_SOURCE=2 -fPIC -I/usr/local/lib/python3.6/dist-packages/numpy/core/include -I. -I/usr/include/python3.6m -c pafprocess_wrap.cpp -o build/temp.linux-x86_64-3.6/pafprocess_wrap.o\n",
            "x86_64-linux-gnu-g++ -pthread -shared -Wl,-O1 -Wl,-Bsymbolic-functions -Wl,-Bsymbolic-functions -Wl,-z,relro -Wl,-Bsymbolic-functions -Wl,-z,relro -g -fstack-protector-strong -Wformat -Werror=format-security -Wdate-time -D_FORTIFY_SOURCE=2 build/temp.linux-x86_64-3.6/pafprocess.o build/temp.linux-x86_64-3.6/pafprocess_wrap.o -o /content/tf-openpose/tf_pose/pafprocess/_pafprocess.cpython-36m-x86_64-linux-gnu.so\n",
            "/content/tf-openpose\n",
            "Go to this URL in a browser: https://accounts.google.com/o/oauth2/auth?client_id=947318989803-6bn6qk8qdgf4n4g3pfee6491hc0brc4i.apps.googleusercontent.com&redirect_uri=urn%3Aietf%3Awg%3Aoauth%3A2.0%3Aoob&scope=email%20https%3A%2F%2Fwww.googleapis.com%2Fauth%2Fdocs.test%20https%3A%2F%2Fwww.googleapis.com%2Fauth%2Fdrive%20https%3A%2F%2Fwww.googleapis.com%2Fauth%2Fdrive.photos.readonly%20https%3A%2F%2Fwww.googleapis.com%2Fauth%2Fpeopleapi.readonly&response_type=code\n",
            "\n",
            "Enter your authorization code:\n",
            "··········\n",
            "Mounted at ./gdrive\n"
          ],
          "name": "stdout"
        }
      ]
    },
    {
      "cell_type": "markdown",
      "metadata": {
        "id": "2IMhQpVISHX5",
        "colab_type": "text"
      },
      "source": [
        "### **これは自分が入力する部分** *"
      ]
    },
    {
      "cell_type": "code",
      "metadata": {
        "colab_type": "code",
        "id": "PGVNBI9UiSp4",
        "colab": {}
      },
      "source": [
        "#元の動画の情報を見て、1920 ×　1080　のようにサイズを合わせる\n",
        "w = 1024\n",
        "h = 576\n",
        "\n",
        "#動画の半分のスピードになります。　　３０にすれば1倍の速さ\n",
        "speed = 10\n",
        "\n",
        "#movie_nameにGoogle Driveの動画名を入れる\n",
        "movie_name = 'tennis_serve.MOV'\n",
        "!cp './gdrive/My Drive/tennis_serve.MOV' \"./\"\n"
      ],
      "execution_count": 0,
      "outputs": []
    },
    {
      "cell_type": "code",
      "metadata": {
        "id": "t_MXOLy8zbYh",
        "colab_type": "code",
        "outputId": "171074bd-891e-45a5-e54e-a845090ccebd",
        "colab": {
          "base_uri": "https://localhost:8080/",
          "height": 74
        }
      },
      "source": [
        "#棒人間\n",
        "import numpy as np\n",
        "import argparse, cv2, os\n",
        "from tf_pose import common\n",
        "from tf_pose.estimator import TfPoseEstimator\n",
        "from tf_pose.networks import get_graph_path, model_wh\n",
        "from PIL import Image\n",
        "\n",
        "img_outdir = './img３'\n",
        "os.makedirs(img_outdir, exist_ok=True)\n",
        "\n",
        "# 動画作成\n",
        "fourcc = cv2.VideoWriter_fourcc(*'XVID')\n",
        "video  = cv2.VideoWriter('output_line_output.mp4', fourcc, speed, (w, h))\n",
        "\n",
        "\n",
        "if __name__ == '__main__':\n",
        "    parser = argparse.ArgumentParser(description='tf-pose-estimation Video')\n",
        "\n",
        "    outimg_files = []\n",
        "    count = 0\n",
        "    \n",
        "    e = TfPoseEstimator(get_graph_path('mobilenet_thin'), target_size=(w, h))\n",
        "    cap = cv2.VideoCapture(movie_name)\n",
        "\n",
        "    # 動画用の画像作成\n",
        "    while True:\n",
        "        ret, image = cap.read()\n",
        "\n",
        "        if ret == True:\n",
        "            # １フレームずつ処理\n",
        "            count += 1\n",
        "            img = np.zeros((h, w, 3), dtype=np.uint8)\n",
        "            humans = e.inference(image, resize_to_default=(w > 0 and h > 0), upsample_size=4)\n",
        "            image = e.draw_humans(img, humans, imgcopy=False)\n",
        "\n",
        "            # 画像出力\n",
        "            outimg_file = '{}/{:05d}.jpg'.format(img_outdir, count)\n",
        "            cv2.imwrite(outimg_file, image)\n",
        "            video.write(image) \n",
        "\n",
        "        else:\n",
        "            break\n",
        "    video.release()"
      ],
      "execution_count": 30,
      "outputs": [
        {
          "output_type": "stream",
          "text": [
            "[2019-05-20 10:04:44,703] [TfPoseEstimator] [INFO] loading graph from /content/tf-openpose/models/graph/mobilenet_thin/graph_opt.pb(default size=1024x576)\n",
            "2019-05-20 10:04:44,703 INFO loading graph from /content/tf-openpose/models/graph/mobilenet_thin/graph_opt.pb(default size=1024x576)\n"
          ],
          "name": "stderr"
        }
      ]
    },
    {
      "cell_type": "code",
      "metadata": {
        "id": "sqZPx7TNA4t0",
        "colab_type": "code",
        "outputId": "f2c91210-6e32-4276-a67d-f374c3d175bf",
        "colab": {
          "base_uri": "https://localhost:8080/",
          "height": 74
        }
      },
      "source": [
        "#背景を残しつつ姿勢推定\n",
        "# from PIL import Image\n",
        "\n",
        "# # 動画作成\n",
        "fourcc = cv2.VideoWriter_fourcc(*'XVID')\n",
        "video  = cv2.VideoWriter('output.mp4', fourcc, speed, (w, h))\n",
        "\n",
        "if __name__ == '__main__':\n",
        "    parser = argparse.ArgumentParser(description='tf-pose-estimation Video')\n",
        "\n",
        "    outimg_files = []\n",
        "    count = 0\n",
        "    e = TfPoseEstimator(get_graph_path('mobilenet_thin'), target_size=(w, h))\n",
        "    cap = cv2.VideoCapture(movie_name)\n",
        "\n",
        "    # 動画用の画像作成\n",
        "    while True:\n",
        "        ret, image = cap.read()\n",
        "\n",
        "        if ret == True:\n",
        "            # １フレームずつ処理\n",
        "            count += 1\n",
        "            humans = e.inference(image, resize_to_default=(w > 0 and h > 0), upsample_size=4)\n",
        "            image = TfPoseEstimator.draw_humans(image, humans, imgcopy=False)\n",
        "\n",
        "            # 画像出力\n",
        "            outimg_file = '{}/{:05d}.jpg'.format(img_outdir, count)\n",
        "            cv2.imwrite(outimg_file, image)\n",
        "            video.write(image) \n",
        "\n",
        "        else:\n",
        "            break\n",
        "    video.release()"
      ],
      "execution_count": 20,
      "outputs": [
        {
          "output_type": "stream",
          "text": [
            "[2019-05-20 09:50:30,828] [TfPoseEstimator] [INFO] loading graph from /content/tf-openpose/models/graph/mobilenet_thin/graph_opt.pb(default size=1280x720)\n",
            "2019-05-20 09:50:30,828 INFO loading graph from /content/tf-openpose/models/graph/mobilenet_thin/graph_opt.pb(default size=1280x720)\n"
          ],
          "name": "stderr"
        }
      ]
    },
    {
      "cell_type": "code",
      "metadata": {
        "id": "p8-5Z95B0nFt",
        "colab_type": "code",
        "colab": {}
      },
      "source": [
        "!cp './output_line_K_M2.mp4'  './gdrive/My Drive/'\n",
        "!cp './output_K_M2.mp4'  './gdrive/My Drive/'"
      ],
      "execution_count": 0,
      "outputs": []
    },
    {
      "cell_type": "code",
      "metadata": {
        "id": "o7ec59mQi_k6",
        "colab_type": "code",
        "colab": {
          "base_uri": "https://localhost:8080/",
          "height": 92
        },
        "outputId": "3f11e99d-a01d-4d15-86be-6d2e6e9d451c"
      },
      "source": [
        "import argparse\n",
        "import logging\n",
        "import time\n",
        "import os\n",
        "\n",
        "import cv2\n",
        "import numpy as np\n",
        "import matplotlib.pyplot as plt\n",
        "\n",
        "from tf_pose import common\n",
        "from tf_pose.estimator import TfPoseEstimator\n",
        "from tf_pose.networks import get_graph_path, model_wh\n",
        "\n",
        "\n",
        "img_outdir = './img'\n",
        "os.makedirs(img_outdir, exist_ok=True)\n",
        "\n",
        "# 動画作成\n",
        "fourcc = cv2.VideoWriter_fourcc('m','p','4', 'v')\n",
        "video  = cv2.VideoWriter('output_tennis_serve.mp4', fourcc, 30.0, (1920, 1080))\n",
        "\n",
        "\n",
        "if __name__ == '__main__':\n",
        "    parser = argparse.ArgumentParser(description='tf-pose-estimation Video')\n",
        "\n",
        "    outimg_files = []\n",
        "    count = 0\n",
        "    w = 1920\n",
        "    h = 1080\n",
        "    e = TfPoseEstimator(get_graph_path('mobilenet_thin'), target_size=(w, h))\n",
        "\n",
        "    \n",
        "    cap = cv2.VideoCapture('tennis_serve.MOV')\n",
        "\n",
        "    # 動画用の画像作成\n",
        "    while True:\n",
        "        ret, image = cap.read()\n",
        "\n",
        "        if ret == True:\n",
        "            # １フレームずつ処理\n",
        "            count += 1\n",
        "            if count % 100 == 0:\n",
        "                print('Image No.{0}'.format(count))\n",
        "\n",
        "            humans = e.inference(image, resize_to_default=(w > 0 and h > 0), upsample_size=4)\n",
        "            image = TfPoseEstimator.draw_humans(image, humans, imgcopy=False)\n",
        "\n",
        "            # 画像出力\n",
        "            outimg_file = '{}/{:05d}.jpg'.format(img_outdir, count)\n",
        "            cv2.imwrite(outimg_file, image)\n",
        "            video.write(image)       \n",
        "\n",
        "        else:\n",
        "            break\n",
        "    video.release()"
      ],
      "execution_count": 14,
      "outputs": [
        {
          "output_type": "stream",
          "text": [
            "[2019-05-20 09:35:23,788] [TfPoseEstimator] [INFO] loading graph from /content/tf-openpose/models/graph/mobilenet_thin/graph_opt.pb(default size=1920x1080)\n",
            "2019-05-20 09:35:23,788 INFO loading graph from /content/tf-openpose/models/graph/mobilenet_thin/graph_opt.pb(default size=1920x1080)\n"
          ],
          "name": "stderr"
        },
        {
          "output_type": "stream",
          "text": [
            "Image No.：100\n"
          ],
          "name": "stdout"
        }
      ]
    },
    {
      "cell_type": "code",
      "metadata": {
        "id": "DEIWxB9Qkl4M",
        "colab_type": "code",
        "colab": {}
      },
      "source": [
        ""
      ],
      "execution_count": 0,
      "outputs": []
    }
  ]
}